{
  "cells": [
    {
      "cell_type": "code",
      "execution_count": null,
      "metadata": {
        "id": "U0lszDSfDN_l"
      },
      "outputs": [],
      "source": [
        "import pandas as pd\n",
        "import numpy as np\n",
        "import matplotlib.pyplot as plt\n",
        "import seaborn as sns"
      ]
    },
    {
      "cell_type": "code",
      "execution_count": null,
      "metadata": {
        "id": "Rmwuq7ZbHxym"
      },
      "outputs": [],
      "source": [
        "df=pd.read_csv(\"/content/ENB2012_data.csv\")"
      ]
    },
    {
      "cell_type": "code",
      "execution_count": null,
      "metadata": {
        "colab": {
          "base_uri": "https://localhost:8080/",
          "height": 206
        },
        "id": "4atY3k2yH26q",
        "outputId": "e4cd12f6-9bc1-49cf-84fa-4b5f3bc6a07f"
      },
      "outputs": [
        {
          "data": {
            "text/html": [
              "\n",
              "  <div id=\"df-71ed9869-6eb2-4d69-87e0-a48e3d5eaff6\">\n",
              "    <div class=\"colab-df-container\">\n",
              "      <div>\n",
              "<style scoped>\n",
              "    .dataframe tbody tr th:only-of-type {\n",
              "        vertical-align: middle;\n",
              "    }\n",
              "\n",
              "    .dataframe tbody tr th {\n",
              "        vertical-align: top;\n",
              "    }\n",
              "\n",
              "    .dataframe thead th {\n",
              "        text-align: right;\n",
              "    }\n",
              "</style>\n",
              "<table border=\"1\" class=\"dataframe\">\n",
              "  <thead>\n",
              "    <tr style=\"text-align: right;\">\n",
              "      <th></th>\n",
              "      <th>X1</th>\n",
              "      <th>X2</th>\n",
              "      <th>X3</th>\n",
              "      <th>X4</th>\n",
              "      <th>X5</th>\n",
              "      <th>X6</th>\n",
              "      <th>X7</th>\n",
              "      <th>X8</th>\n",
              "      <th>Y1</th>\n",
              "      <th>Y2</th>\n",
              "    </tr>\n",
              "  </thead>\n",
              "  <tbody>\n",
              "    <tr>\n",
              "      <th>0</th>\n",
              "      <td>0.98</td>\n",
              "      <td>514.5</td>\n",
              "      <td>294.0</td>\n",
              "      <td>110.25</td>\n",
              "      <td>7.0</td>\n",
              "      <td>2</td>\n",
              "      <td>0.0</td>\n",
              "      <td>0</td>\n",
              "      <td>15.55</td>\n",
              "      <td>21.33</td>\n",
              "    </tr>\n",
              "    <tr>\n",
              "      <th>1</th>\n",
              "      <td>0.98</td>\n",
              "      <td>514.5</td>\n",
              "      <td>294.0</td>\n",
              "      <td>110.25</td>\n",
              "      <td>7.0</td>\n",
              "      <td>3</td>\n",
              "      <td>0.0</td>\n",
              "      <td>0</td>\n",
              "      <td>15.55</td>\n",
              "      <td>21.33</td>\n",
              "    </tr>\n",
              "    <tr>\n",
              "      <th>2</th>\n",
              "      <td>0.98</td>\n",
              "      <td>514.5</td>\n",
              "      <td>294.0</td>\n",
              "      <td>110.25</td>\n",
              "      <td>7.0</td>\n",
              "      <td>4</td>\n",
              "      <td>0.0</td>\n",
              "      <td>0</td>\n",
              "      <td>15.55</td>\n",
              "      <td>21.33</td>\n",
              "    </tr>\n",
              "    <tr>\n",
              "      <th>3</th>\n",
              "      <td>0.98</td>\n",
              "      <td>514.5</td>\n",
              "      <td>294.0</td>\n",
              "      <td>110.25</td>\n",
              "      <td>7.0</td>\n",
              "      <td>5</td>\n",
              "      <td>0.0</td>\n",
              "      <td>0</td>\n",
              "      <td>15.55</td>\n",
              "      <td>21.33</td>\n",
              "    </tr>\n",
              "    <tr>\n",
              "      <th>4</th>\n",
              "      <td>0.90</td>\n",
              "      <td>563.5</td>\n",
              "      <td>318.5</td>\n",
              "      <td>122.50</td>\n",
              "      <td>7.0</td>\n",
              "      <td>2</td>\n",
              "      <td>0.0</td>\n",
              "      <td>0</td>\n",
              "      <td>20.84</td>\n",
              "      <td>28.28</td>\n",
              "    </tr>\n",
              "  </tbody>\n",
              "</table>\n",
              "</div>\n",
              "      <button class=\"colab-df-convert\" onclick=\"convertToInteractive('df-71ed9869-6eb2-4d69-87e0-a48e3d5eaff6')\"\n",
              "              title=\"Convert this dataframe to an interactive table.\"\n",
              "              style=\"display:none;\">\n",
              "        \n",
              "  <svg xmlns=\"http://www.w3.org/2000/svg\" height=\"24px\"viewBox=\"0 0 24 24\"\n",
              "       width=\"24px\">\n",
              "    <path d=\"M0 0h24v24H0V0z\" fill=\"none\"/>\n",
              "    <path d=\"M18.56 5.44l.94 2.06.94-2.06 2.06-.94-2.06-.94-.94-2.06-.94 2.06-2.06.94zm-11 1L8.5 8.5l.94-2.06 2.06-.94-2.06-.94L8.5 2.5l-.94 2.06-2.06.94zm10 10l.94 2.06.94-2.06 2.06-.94-2.06-.94-.94-2.06-.94 2.06-2.06.94z\"/><path d=\"M17.41 7.96l-1.37-1.37c-.4-.4-.92-.59-1.43-.59-.52 0-1.04.2-1.43.59L10.3 9.45l-7.72 7.72c-.78.78-.78 2.05 0 2.83L4 21.41c.39.39.9.59 1.41.59.51 0 1.02-.2 1.41-.59l7.78-7.78 2.81-2.81c.8-.78.8-2.07 0-2.86zM5.41 20L4 18.59l7.72-7.72 1.47 1.35L5.41 20z\"/>\n",
              "  </svg>\n",
              "      </button>\n",
              "      \n",
              "  <style>\n",
              "    .colab-df-container {\n",
              "      display:flex;\n",
              "      flex-wrap:wrap;\n",
              "      gap: 12px;\n",
              "    }\n",
              "\n",
              "    .colab-df-convert {\n",
              "      background-color: #E8F0FE;\n",
              "      border: none;\n",
              "      border-radius: 50%;\n",
              "      cursor: pointer;\n",
              "      display: none;\n",
              "      fill: #1967D2;\n",
              "      height: 32px;\n",
              "      padding: 0 0 0 0;\n",
              "      width: 32px;\n",
              "    }\n",
              "\n",
              "    .colab-df-convert:hover {\n",
              "      background-color: #E2EBFA;\n",
              "      box-shadow: 0px 1px 2px rgba(60, 64, 67, 0.3), 0px 1px 3px 1px rgba(60, 64, 67, 0.15);\n",
              "      fill: #174EA6;\n",
              "    }\n",
              "\n",
              "    [theme=dark] .colab-df-convert {\n",
              "      background-color: #3B4455;\n",
              "      fill: #D2E3FC;\n",
              "    }\n",
              "\n",
              "    [theme=dark] .colab-df-convert:hover {\n",
              "      background-color: #434B5C;\n",
              "      box-shadow: 0px 1px 3px 1px rgba(0, 0, 0, 0.15);\n",
              "      filter: drop-shadow(0px 1px 2px rgba(0, 0, 0, 0.3));\n",
              "      fill: #FFFFFF;\n",
              "    }\n",
              "  </style>\n",
              "\n",
              "      <script>\n",
              "        const buttonEl =\n",
              "          document.querySelector('#df-71ed9869-6eb2-4d69-87e0-a48e3d5eaff6 button.colab-df-convert');\n",
              "        buttonEl.style.display =\n",
              "          google.colab.kernel.accessAllowed ? 'block' : 'none';\n",
              "\n",
              "        async function convertToInteractive(key) {\n",
              "          const element = document.querySelector('#df-71ed9869-6eb2-4d69-87e0-a48e3d5eaff6');\n",
              "          const dataTable =\n",
              "            await google.colab.kernel.invokeFunction('convertToInteractive',\n",
              "                                                     [key], {});\n",
              "          if (!dataTable) return;\n",
              "\n",
              "          const docLinkHtml = 'Like what you see? Visit the ' +\n",
              "            '<a target=\"_blank\" href=https://colab.research.google.com/notebooks/data_table.ipynb>data table notebook</a>'\n",
              "            + ' to learn more about interactive tables.';\n",
              "          element.innerHTML = '';\n",
              "          dataTable['output_type'] = 'display_data';\n",
              "          await google.colab.output.renderOutput(dataTable, element);\n",
              "          const docLink = document.createElement('div');\n",
              "          docLink.innerHTML = docLinkHtml;\n",
              "          element.appendChild(docLink);\n",
              "        }\n",
              "      </script>\n",
              "    </div>\n",
              "  </div>\n",
              "  "
            ],
            "text/plain": [
              "     X1     X2     X3      X4   X5  X6   X7  X8     Y1     Y2\n",
              "0  0.98  514.5  294.0  110.25  7.0   2  0.0   0  15.55  21.33\n",
              "1  0.98  514.5  294.0  110.25  7.0   3  0.0   0  15.55  21.33\n",
              "2  0.98  514.5  294.0  110.25  7.0   4  0.0   0  15.55  21.33\n",
              "3  0.98  514.5  294.0  110.25  7.0   5  0.0   0  15.55  21.33\n",
              "4  0.90  563.5  318.5  122.50  7.0   2  0.0   0  20.84  28.28"
            ]
          },
          "execution_count": 3,
          "metadata": {},
          "output_type": "execute_result"
        }
      ],
      "source": [
        "df.head()"
      ]
    },
    {
      "cell_type": "code",
      "execution_count": null,
      "metadata": {
        "colab": {
          "base_uri": "https://localhost:8080/"
        },
        "id": "UZyiNCHpILET",
        "outputId": "1376f89f-4f46-4ac7-93d0-445a2e5d742e"
      },
      "outputs": [
        {
          "name": "stdout",
          "output_type": "stream",
          "text": [
            "<class 'pandas.core.frame.DataFrame'>\n",
            "RangeIndex: 768 entries, 0 to 767\n",
            "Data columns (total 10 columns):\n",
            " #   Column  Non-Null Count  Dtype  \n",
            "---  ------  --------------  -----  \n",
            " 0   X1      768 non-null    float64\n",
            " 1   X2      768 non-null    float64\n",
            " 2   X3      768 non-null    float64\n",
            " 3   X4      768 non-null    float64\n",
            " 4   X5      768 non-null    float64\n",
            " 5   X6      768 non-null    int64  \n",
            " 6   X7      768 non-null    float64\n",
            " 7   X8      768 non-null    int64  \n",
            " 8   Y1      768 non-null    float64\n",
            " 9   Y2      768 non-null    float64\n",
            "dtypes: float64(8), int64(2)\n",
            "memory usage: 60.1 KB\n"
          ]
        }
      ],
      "source": [
        "df.info()"
      ]
    },
    {
      "cell_type": "code",
      "execution_count": null,
      "metadata": {
        "colab": {
          "base_uri": "https://localhost:8080/",
          "height": 300
        },
        "id": "C-VlSs88IXXT",
        "outputId": "02fd602d-ca9d-4a19-f76a-ddeff253304c"
      },
      "outputs": [
        {
          "data": {
            "text/html": [
              "\n",
              "  <div id=\"df-58616c8b-e95f-4153-aeeb-2d48134664b8\">\n",
              "    <div class=\"colab-df-container\">\n",
              "      <div>\n",
              "<style scoped>\n",
              "    .dataframe tbody tr th:only-of-type {\n",
              "        vertical-align: middle;\n",
              "    }\n",
              "\n",
              "    .dataframe tbody tr th {\n",
              "        vertical-align: top;\n",
              "    }\n",
              "\n",
              "    .dataframe thead th {\n",
              "        text-align: right;\n",
              "    }\n",
              "</style>\n",
              "<table border=\"1\" class=\"dataframe\">\n",
              "  <thead>\n",
              "    <tr style=\"text-align: right;\">\n",
              "      <th></th>\n",
              "      <th>X1</th>\n",
              "      <th>X2</th>\n",
              "      <th>X3</th>\n",
              "      <th>X4</th>\n",
              "      <th>X5</th>\n",
              "      <th>X6</th>\n",
              "      <th>X7</th>\n",
              "      <th>X8</th>\n",
              "      <th>Y1</th>\n",
              "      <th>Y2</th>\n",
              "    </tr>\n",
              "  </thead>\n",
              "  <tbody>\n",
              "    <tr>\n",
              "      <th>count</th>\n",
              "      <td>768.000000</td>\n",
              "      <td>768.000000</td>\n",
              "      <td>768.000000</td>\n",
              "      <td>768.000000</td>\n",
              "      <td>768.00000</td>\n",
              "      <td>768.000000</td>\n",
              "      <td>768.000000</td>\n",
              "      <td>768.00000</td>\n",
              "      <td>768.000000</td>\n",
              "      <td>768.000000</td>\n",
              "    </tr>\n",
              "    <tr>\n",
              "      <th>mean</th>\n",
              "      <td>0.764167</td>\n",
              "      <td>671.708333</td>\n",
              "      <td>318.500000</td>\n",
              "      <td>176.604167</td>\n",
              "      <td>5.25000</td>\n",
              "      <td>3.500000</td>\n",
              "      <td>0.234375</td>\n",
              "      <td>2.81250</td>\n",
              "      <td>22.307201</td>\n",
              "      <td>24.587760</td>\n",
              "    </tr>\n",
              "    <tr>\n",
              "      <th>std</th>\n",
              "      <td>0.105777</td>\n",
              "      <td>88.086116</td>\n",
              "      <td>43.626481</td>\n",
              "      <td>45.165950</td>\n",
              "      <td>1.75114</td>\n",
              "      <td>1.118763</td>\n",
              "      <td>0.133221</td>\n",
              "      <td>1.55096</td>\n",
              "      <td>10.090196</td>\n",
              "      <td>9.513306</td>\n",
              "    </tr>\n",
              "    <tr>\n",
              "      <th>min</th>\n",
              "      <td>0.620000</td>\n",
              "      <td>514.500000</td>\n",
              "      <td>245.000000</td>\n",
              "      <td>110.250000</td>\n",
              "      <td>3.50000</td>\n",
              "      <td>2.000000</td>\n",
              "      <td>0.000000</td>\n",
              "      <td>0.00000</td>\n",
              "      <td>6.010000</td>\n",
              "      <td>10.900000</td>\n",
              "    </tr>\n",
              "    <tr>\n",
              "      <th>25%</th>\n",
              "      <td>0.682500</td>\n",
              "      <td>606.375000</td>\n",
              "      <td>294.000000</td>\n",
              "      <td>140.875000</td>\n",
              "      <td>3.50000</td>\n",
              "      <td>2.750000</td>\n",
              "      <td>0.100000</td>\n",
              "      <td>1.75000</td>\n",
              "      <td>12.992500</td>\n",
              "      <td>15.620000</td>\n",
              "    </tr>\n",
              "    <tr>\n",
              "      <th>50%</th>\n",
              "      <td>0.750000</td>\n",
              "      <td>673.750000</td>\n",
              "      <td>318.500000</td>\n",
              "      <td>183.750000</td>\n",
              "      <td>5.25000</td>\n",
              "      <td>3.500000</td>\n",
              "      <td>0.250000</td>\n",
              "      <td>3.00000</td>\n",
              "      <td>18.950000</td>\n",
              "      <td>22.080000</td>\n",
              "    </tr>\n",
              "    <tr>\n",
              "      <th>75%</th>\n",
              "      <td>0.830000</td>\n",
              "      <td>741.125000</td>\n",
              "      <td>343.000000</td>\n",
              "      <td>220.500000</td>\n",
              "      <td>7.00000</td>\n",
              "      <td>4.250000</td>\n",
              "      <td>0.400000</td>\n",
              "      <td>4.00000</td>\n",
              "      <td>31.667500</td>\n",
              "      <td>33.132500</td>\n",
              "    </tr>\n",
              "    <tr>\n",
              "      <th>max</th>\n",
              "      <td>0.980000</td>\n",
              "      <td>808.500000</td>\n",
              "      <td>416.500000</td>\n",
              "      <td>220.500000</td>\n",
              "      <td>7.00000</td>\n",
              "      <td>5.000000</td>\n",
              "      <td>0.400000</td>\n",
              "      <td>5.00000</td>\n",
              "      <td>43.100000</td>\n",
              "      <td>48.030000</td>\n",
              "    </tr>\n",
              "  </tbody>\n",
              "</table>\n",
              "</div>\n",
              "      <button class=\"colab-df-convert\" onclick=\"convertToInteractive('df-58616c8b-e95f-4153-aeeb-2d48134664b8')\"\n",
              "              title=\"Convert this dataframe to an interactive table.\"\n",
              "              style=\"display:none;\">\n",
              "        \n",
              "  <svg xmlns=\"http://www.w3.org/2000/svg\" height=\"24px\"viewBox=\"0 0 24 24\"\n",
              "       width=\"24px\">\n",
              "    <path d=\"M0 0h24v24H0V0z\" fill=\"none\"/>\n",
              "    <path d=\"M18.56 5.44l.94 2.06.94-2.06 2.06-.94-2.06-.94-.94-2.06-.94 2.06-2.06.94zm-11 1L8.5 8.5l.94-2.06 2.06-.94-2.06-.94L8.5 2.5l-.94 2.06-2.06.94zm10 10l.94 2.06.94-2.06 2.06-.94-2.06-.94-.94-2.06-.94 2.06-2.06.94z\"/><path d=\"M17.41 7.96l-1.37-1.37c-.4-.4-.92-.59-1.43-.59-.52 0-1.04.2-1.43.59L10.3 9.45l-7.72 7.72c-.78.78-.78 2.05 0 2.83L4 21.41c.39.39.9.59 1.41.59.51 0 1.02-.2 1.41-.59l7.78-7.78 2.81-2.81c.8-.78.8-2.07 0-2.86zM5.41 20L4 18.59l7.72-7.72 1.47 1.35L5.41 20z\"/>\n",
              "  </svg>\n",
              "      </button>\n",
              "      \n",
              "  <style>\n",
              "    .colab-df-container {\n",
              "      display:flex;\n",
              "      flex-wrap:wrap;\n",
              "      gap: 12px;\n",
              "    }\n",
              "\n",
              "    .colab-df-convert {\n",
              "      background-color: #E8F0FE;\n",
              "      border: none;\n",
              "      border-radius: 50%;\n",
              "      cursor: pointer;\n",
              "      display: none;\n",
              "      fill: #1967D2;\n",
              "      height: 32px;\n",
              "      padding: 0 0 0 0;\n",
              "      width: 32px;\n",
              "    }\n",
              "\n",
              "    .colab-df-convert:hover {\n",
              "      background-color: #E2EBFA;\n",
              "      box-shadow: 0px 1px 2px rgba(60, 64, 67, 0.3), 0px 1px 3px 1px rgba(60, 64, 67, 0.15);\n",
              "      fill: #174EA6;\n",
              "    }\n",
              "\n",
              "    [theme=dark] .colab-df-convert {\n",
              "      background-color: #3B4455;\n",
              "      fill: #D2E3FC;\n",
              "    }\n",
              "\n",
              "    [theme=dark] .colab-df-convert:hover {\n",
              "      background-color: #434B5C;\n",
              "      box-shadow: 0px 1px 3px 1px rgba(0, 0, 0, 0.15);\n",
              "      filter: drop-shadow(0px 1px 2px rgba(0, 0, 0, 0.3));\n",
              "      fill: #FFFFFF;\n",
              "    }\n",
              "  </style>\n",
              "\n",
              "      <script>\n",
              "        const buttonEl =\n",
              "          document.querySelector('#df-58616c8b-e95f-4153-aeeb-2d48134664b8 button.colab-df-convert');\n",
              "        buttonEl.style.display =\n",
              "          google.colab.kernel.accessAllowed ? 'block' : 'none';\n",
              "\n",
              "        async function convertToInteractive(key) {\n",
              "          const element = document.querySelector('#df-58616c8b-e95f-4153-aeeb-2d48134664b8');\n",
              "          const dataTable =\n",
              "            await google.colab.kernel.invokeFunction('convertToInteractive',\n",
              "                                                     [key], {});\n",
              "          if (!dataTable) return;\n",
              "\n",
              "          const docLinkHtml = 'Like what you see? Visit the ' +\n",
              "            '<a target=\"_blank\" href=https://colab.research.google.com/notebooks/data_table.ipynb>data table notebook</a>'\n",
              "            + ' to learn more about interactive tables.';\n",
              "          element.innerHTML = '';\n",
              "          dataTable['output_type'] = 'display_data';\n",
              "          await google.colab.output.renderOutput(dataTable, element);\n",
              "          const docLink = document.createElement('div');\n",
              "          docLink.innerHTML = docLinkHtml;\n",
              "          element.appendChild(docLink);\n",
              "        }\n",
              "      </script>\n",
              "    </div>\n",
              "  </div>\n",
              "  "
            ],
            "text/plain": [
              "               X1          X2          X3          X4         X5          X6  \\\n",
              "count  768.000000  768.000000  768.000000  768.000000  768.00000  768.000000   \n",
              "mean     0.764167  671.708333  318.500000  176.604167    5.25000    3.500000   \n",
              "std      0.105777   88.086116   43.626481   45.165950    1.75114    1.118763   \n",
              "min      0.620000  514.500000  245.000000  110.250000    3.50000    2.000000   \n",
              "25%      0.682500  606.375000  294.000000  140.875000    3.50000    2.750000   \n",
              "50%      0.750000  673.750000  318.500000  183.750000    5.25000    3.500000   \n",
              "75%      0.830000  741.125000  343.000000  220.500000    7.00000    4.250000   \n",
              "max      0.980000  808.500000  416.500000  220.500000    7.00000    5.000000   \n",
              "\n",
              "               X7         X8          Y1          Y2  \n",
              "count  768.000000  768.00000  768.000000  768.000000  \n",
              "mean     0.234375    2.81250   22.307201   24.587760  \n",
              "std      0.133221    1.55096   10.090196    9.513306  \n",
              "min      0.000000    0.00000    6.010000   10.900000  \n",
              "25%      0.100000    1.75000   12.992500   15.620000  \n",
              "50%      0.250000    3.00000   18.950000   22.080000  \n",
              "75%      0.400000    4.00000   31.667500   33.132500  \n",
              "max      0.400000    5.00000   43.100000   48.030000  "
            ]
          },
          "execution_count": 5,
          "metadata": {},
          "output_type": "execute_result"
        }
      ],
      "source": [
        "df.describe()"
      ]
    },
    {
      "cell_type": "code",
      "execution_count": null,
      "metadata": {
        "colab": {
          "base_uri": "https://localhost:8080/"
        },
        "id": "q-0LLCLWIwxd",
        "outputId": "16323da9-cfd7-4b80-c237-b14b47cbbf1a"
      },
      "outputs": [
        {
          "data": {
            "text/plain": [
              "X1    0\n",
              "X2    0\n",
              "X3    0\n",
              "X4    0\n",
              "X5    0\n",
              "X6    0\n",
              "X7    0\n",
              "X8    0\n",
              "Y1    0\n",
              "Y2    0\n",
              "dtype: int64"
            ]
          },
          "execution_count": 6,
          "metadata": {},
          "output_type": "execute_result"
        }
      ],
      "source": [
        "df.isnull().sum()"
      ]
    },
    {
      "cell_type": "code",
      "execution_count": null,
      "metadata": {
        "colab": {
          "base_uri": "https://localhost:8080/"
        },
        "id": "MuZL127zJNpE",
        "outputId": "eebccd2a-2103-4e13-9f24-b50c57a450f0"
      },
      "outputs": [
        {
          "data": {
            "text/plain": [
              "Index(['X1', 'X2', 'X3', 'X4', 'X5', 'X6', 'X7', 'X8', 'Y1', 'Y2'], dtype='object')"
            ]
          },
          "execution_count": 7,
          "metadata": {},
          "output_type": "execute_result"
        }
      ],
      "source": [
        "df.columns"
      ]
    },
    {
      "cell_type": "code",
      "execution_count": null,
      "metadata": {
        "colab": {
          "base_uri": "https://localhost:8080/"
        },
        "id": "kEVCbe0ZI6us",
        "outputId": "a86bea6a-595e-44c7-ac6f-39cdc6ca0a56"
      },
      "outputs": [
        {
          "data": {
            "text/plain": [
              "0.98    64\n",
              "0.90    64\n",
              "0.86    64\n",
              "0.82    64\n",
              "0.79    64\n",
              "0.76    64\n",
              "0.74    64\n",
              "0.71    64\n",
              "0.69    64\n",
              "0.66    64\n",
              "0.64    64\n",
              "0.62    64\n",
              "Name: X1, dtype: int64"
            ]
          },
          "execution_count": 8,
          "metadata": {},
          "output_type": "execute_result"
        }
      ],
      "source": [
        "df[\"X1\"].value_counts()"
      ]
    },
    {
      "cell_type": "code",
      "execution_count": null,
      "metadata": {
        "colab": {
          "base_uri": "https://localhost:8080/"
        },
        "id": "zfkOgZmdI-Xt",
        "outputId": "7686cc9c-4060-4e37-8eac-18e2385ccea7"
      },
      "outputs": [
        {
          "data": {
            "text/plain": [
              "514.5    64\n",
              "563.5    64\n",
              "588.0    64\n",
              "612.5    64\n",
              "637.0    64\n",
              "661.5    64\n",
              "686.0    64\n",
              "710.5    64\n",
              "735.0    64\n",
              "759.5    64\n",
              "784.0    64\n",
              "808.5    64\n",
              "Name: X2, dtype: int64"
            ]
          },
          "execution_count": 9,
          "metadata": {},
          "output_type": "execute_result"
        }
      ],
      "source": [
        "df[\"X2\"].value_counts()"
      ]
    },
    {
      "cell_type": "code",
      "execution_count": null,
      "metadata": {
        "colab": {
          "base_uri": "https://localhost:8080/"
        },
        "id": "AkBIrsupJSR5",
        "outputId": "155d0859-b83b-4da8-e048-1408158789fc"
      },
      "outputs": [
        {
          "data": {
            "text/plain": [
              "294.0    192\n",
              "318.5    192\n",
              "343.0    128\n",
              "416.5     64\n",
              "245.0     64\n",
              "269.5     64\n",
              "367.5     64\n",
              "Name: X3, dtype: int64"
            ]
          },
          "execution_count": 10,
          "metadata": {},
          "output_type": "execute_result"
        }
      ],
      "source": [
        "df[\"X3\"].value_counts()"
      ]
    },
    {
      "cell_type": "code",
      "execution_count": null,
      "metadata": {
        "colab": {
          "base_uri": "https://localhost:8080/"
        },
        "id": "GDJPoJWfJXKv",
        "outputId": "0f0379f0-e7c6-4724-e5d6-7a5bbe47b03e"
      },
      "outputs": [
        {
          "data": {
            "text/plain": [
              "220.50    384\n",
              "147.00    192\n",
              "122.50    128\n",
              "110.25     64\n",
              "Name: X4, dtype: int64"
            ]
          },
          "execution_count": 11,
          "metadata": {},
          "output_type": "execute_result"
        }
      ],
      "source": [
        "df[\"X4\"].value_counts()"
      ]
    },
    {
      "cell_type": "code",
      "execution_count": null,
      "metadata": {
        "colab": {
          "base_uri": "https://localhost:8080/"
        },
        "id": "3zhal-JRJcB1",
        "outputId": "f1f3b8c7-a867-437e-e42f-2b4f4c5b6090"
      },
      "outputs": [
        {
          "data": {
            "text/plain": [
              "7.0    384\n",
              "3.5    384\n",
              "Name: X5, dtype: int64"
            ]
          },
          "execution_count": 12,
          "metadata": {},
          "output_type": "execute_result"
        }
      ],
      "source": [
        "df[\"X5\"].value_counts()"
      ]
    },
    {
      "cell_type": "code",
      "execution_count": null,
      "metadata": {
        "colab": {
          "base_uri": "https://localhost:8080/"
        },
        "id": "glXtAsDpJeuX",
        "outputId": "8655a576-2962-49e2-b861-101c0db64a5e"
      },
      "outputs": [
        {
          "data": {
            "text/plain": [
              "2    192\n",
              "3    192\n",
              "4    192\n",
              "5    192\n",
              "Name: X6, dtype: int64"
            ]
          },
          "execution_count": 13,
          "metadata": {},
          "output_type": "execute_result"
        }
      ],
      "source": [
        "df[\"X6\"].value_counts()"
      ]
    },
    {
      "cell_type": "code",
      "execution_count": null,
      "metadata": {
        "colab": {
          "base_uri": "https://localhost:8080/"
        },
        "id": "gZ-uLqEyJhUp",
        "outputId": "80b7f394-6209-4876-aa85-1e4e374a013b"
      },
      "outputs": [
        {
          "data": {
            "text/plain": [
              "0.10    240\n",
              "0.25    240\n",
              "0.40    240\n",
              "0.00     48\n",
              "Name: X7, dtype: int64"
            ]
          },
          "execution_count": 14,
          "metadata": {},
          "output_type": "execute_result"
        }
      ],
      "source": [
        "df[\"X7\"].value_counts()"
      ]
    },
    {
      "cell_type": "code",
      "execution_count": null,
      "metadata": {
        "colab": {
          "base_uri": "https://localhost:8080/"
        },
        "id": "-FlE7ojJJjwX",
        "outputId": "f5835895-96ca-4ee6-8c7a-24d1dd104547"
      },
      "outputs": [
        {
          "data": {
            "text/plain": [
              "1    144\n",
              "2    144\n",
              "3    144\n",
              "4    144\n",
              "5    144\n",
              "0     48\n",
              "Name: X8, dtype: int64"
            ]
          },
          "execution_count": 15,
          "metadata": {},
          "output_type": "execute_result"
        }
      ],
      "source": [
        "df[\"X8\"].value_counts()"
      ]
    },
    {
      "cell_type": "code",
      "execution_count": null,
      "metadata": {
        "colab": {
          "base_uri": "https://localhost:8080/"
        },
        "id": "_pohuVwaJltC",
        "outputId": "41deedb7-91c8-4535-ace2-766a26748825"
      },
      "outputs": [
        {
          "data": {
            "text/plain": [
              "15.16    6\n",
              "13.00    5\n",
              "15.55    4\n",
              "10.68    4\n",
              "28.15    4\n",
              "        ..\n",
              "10.47    1\n",
              "33.21    1\n",
              "36.77    1\n",
              "36.71    1\n",
              "16.64    1\n",
              "Name: Y1, Length: 586, dtype: int64"
            ]
          },
          "execution_count": 16,
          "metadata": {},
          "output_type": "execute_result"
        }
      ],
      "source": [
        "df[\"Y1\"].value_counts()"
      ]
    },
    {
      "cell_type": "code",
      "execution_count": null,
      "metadata": {
        "colab": {
          "base_uri": "https://localhost:8080/"
        },
        "id": "_UmHa2EhJ-vc",
        "outputId": "bdb02e31-cdc8-4f85-d88a-5e37190ce9b8"
      },
      "outputs": [
        {
          "data": {
            "text/plain": [
              "21.33    4\n",
              "29.79    4\n",
              "14.27    4\n",
              "17.20    4\n",
              "14.28    4\n",
              "        ..\n",
              "14.65    1\n",
              "14.54    1\n",
              "14.39    1\n",
              "14.46    1\n",
              "17.11    1\n",
              "Name: Y2, Length: 636, dtype: int64"
            ]
          },
          "execution_count": 17,
          "metadata": {},
          "output_type": "execute_result"
        }
      ],
      "source": [
        "df[\"Y2\"].value_counts()"
      ]
    },
    {
      "cell_type": "code",
      "execution_count": null,
      "metadata": {
        "colab": {
          "base_uri": "https://localhost:8080/"
        },
        "id": "28xZJ3KKKDJt",
        "outputId": "bd267297-0bb4-4c9d-fb93-fba8162b4959"
      },
      "outputs": [
        {
          "data": {
            "text/plain": [
              "586"
            ]
          },
          "execution_count": 18,
          "metadata": {},
          "output_type": "execute_result"
        }
      ],
      "source": [
        "df[\"Y1\"].nunique()"
      ]
    },
    {
      "cell_type": "code",
      "execution_count": null,
      "metadata": {
        "colab": {
          "base_uri": "https://localhost:8080/"
        },
        "id": "aUcfZ19dKNeo",
        "outputId": "917272ae-428a-43ef-af7c-d8983c2c2e35"
      },
      "outputs": [
        {
          "data": {
            "text/plain": [
              "(768, 10)"
            ]
          },
          "execution_count": 19,
          "metadata": {},
          "output_type": "execute_result"
        }
      ],
      "source": [
        "df.shape"
      ]
    },
    {
      "cell_type": "code",
      "execution_count": null,
      "metadata": {
        "id": "u7nb24goKWWT"
      },
      "outputs": [],
      "source": [
        "#correlation matrix\n",
        "corr=df.corr()"
      ]
    },
    {
      "cell_type": "code",
      "execution_count": null,
      "metadata": {
        "colab": {
          "base_uri": "https://localhost:8080/",
          "height": 287
        },
        "id": "11A05YLqKhNS",
        "outputId": "098c4441-3d90-4f8f-f68e-b70ba25684d1"
      },
      "outputs": [
        {
          "data": {
            "image/png": "[encoded data removed]",
            "text/plain": [
              "<Figure size 432x288 with 2 Axes>"
            ]
          },
          "metadata": {},
          "output_type": "display_data"
        }
      ],
      "source": [
        "heatmap = sns.heatmap(df.corr(), vmin=-1, vmax=1, annot=True)\n",
        "heatmap.set_title('Correlation Heatmap', fontdict={'fontsize':12}, pad=12);"
      ]
    },
    {
      "cell_type": "code",
      "execution_count": null,
      "metadata": {
        "id": "4oG4yhd8Kj5W"
      },
      "outputs": [],
      "source": [
        "df.drop([\"X2\",\"X4\"],axis=1,inplace=True)"
      ]
    },
    {
      "cell_type": "code",
      "execution_count": null,
      "metadata": {
        "colab": {
          "base_uri": "https://localhost:8080/",
          "height": 206
        },
        "id": "KXCcyCOYLQ9U",
        "outputId": "cab56ad4-ad35-4ad4-8ab4-9ed35c36e4d9"
      },
      "outputs": [
        {
          "data": {
            "text/html": [
              "\n",
              "  <div id=\"df-cd37f3e0-ce8a-477b-81ca-e710ad80bc5f\">\n",
              "    <div class=\"colab-df-container\">\n",
              "      <div>\n",
              "<style scoped>\n",
              "    .dataframe tbody tr th:only-of-type {\n",
              "        vertical-align: middle;\n",
              "    }\n",
              "\n",
              "    .dataframe tbody tr th {\n",
              "        vertical-align: top;\n",
              "    }\n",
              "\n",
              "    .dataframe thead th {\n",
              "        text-align: right;\n",
              "    }\n",
              "</style>\n",
              "<table border=\"1\" class=\"dataframe\">\n",
              "  <thead>\n",
              "    <tr style=\"text-align: right;\">\n",
              "      <th></th>\n",
              "      <th>X1</th>\n",
              "      <th>X3</th>\n",
              "      <th>X5</th>\n",
              "      <th>X6</th>\n",
              "      <th>X7</th>\n",
              "      <th>X8</th>\n",
              "      <th>Y1</th>\n",
              "      <th>Y2</th>\n",
              "    </tr>\n",
              "  </thead>\n",
              "  <tbody>\n",
              "    <tr>\n",
              "      <th>0</th>\n",
              "      <td>0.98</td>\n",
              "      <td>294.0</td>\n",
              "      <td>7.0</td>\n",
              "      <td>2</td>\n",
              "      <td>0.0</td>\n",
              "      <td>0</td>\n",
              "      <td>15.55</td>\n",
              "      <td>21.33</td>\n",
              "    </tr>\n",
              "    <tr>\n",
              "      <th>1</th>\n",
              "      <td>0.98</td>\n",
              "      <td>294.0</td>\n",
              "      <td>7.0</td>\n",
              "      <td>3</td>\n",
              "      <td>0.0</td>\n",
              "      <td>0</td>\n",
              "      <td>15.55</td>\n",
              "      <td>21.33</td>\n",
              "    </tr>\n",
              "    <tr>\n",
              "      <th>2</th>\n",
              "      <td>0.98</td>\n",
              "      <td>294.0</td>\n",
              "      <td>7.0</td>\n",
              "      <td>4</td>\n",
              "      <td>0.0</td>\n",
              "      <td>0</td>\n",
              "      <td>15.55</td>\n",
              "      <td>21.33</td>\n",
              "    </tr>\n",
              "    <tr>\n",
              "      <th>3</th>\n",
              "      <td>0.98</td>\n",
              "      <td>294.0</td>\n",
              "      <td>7.0</td>\n",
              "      <td>5</td>\n",
              "      <td>0.0</td>\n",
              "      <td>0</td>\n",
              "      <td>15.55</td>\n",
              "      <td>21.33</td>\n",
              "    </tr>\n",
              "    <tr>\n",
              "      <th>4</th>\n",
              "      <td>0.90</td>\n",
              "      <td>318.5</td>\n",
              "      <td>7.0</td>\n",
              "      <td>2</td>\n",
              "      <td>0.0</td>\n",
              "      <td>0</td>\n",
              "      <td>20.84</td>\n",
              "      <td>28.28</td>\n",
              "    </tr>\n",
              "  </tbody>\n",
              "</table>\n",
              "</div>\n",
              "      <button class=\"colab-df-convert\" onclick=\"convertToInteractive('df-cd37f3e0-ce8a-477b-81ca-e710ad80bc5f')\"\n",
              "              title=\"Convert this dataframe to an interactive table.\"\n",
              "              style=\"display:none;\">\n",
              "        \n",
              "  <svg xmlns=\"http://www.w3.org/2000/svg\" height=\"24px\"viewBox=\"0 0 24 24\"\n",
              "       width=\"24px\">\n",
              "    <path d=\"M0 0h24v24H0V0z\" fill=\"none\"/>\n",
              "    <path d=\"M18.56 5.44l.94 2.06.94-2.06 2.06-.94-2.06-.94-.94-2.06-.94 2.06-2.06.94zm-11 1L8.5 8.5l.94-2.06 2.06-.94-2.06-.94L8.5 2.5l-.94 2.06-2.06.94zm10 10l.94 2.06.94-2.06 2.06-.94-2.06-.94-.94-2.06-.94 2.06-2.06.94z\"/><path d=\"M17.41 7.96l-1.37-1.37c-.4-.4-.92-.59-1.43-.59-.52 0-1.04.2-1.43.59L10.3 9.45l-7.72 7.72c-.78.78-.78 2.05 0 2.83L4 21.41c.39.39.9.59 1.41.59.51 0 1.02-.2 1.41-.59l7.78-7.78 2.81-2.81c.8-.78.8-2.07 0-2.86zM5.41 20L4 18.59l7.72-7.72 1.47 1.35L5.41 20z\"/>\n",
              "  </svg>\n",
              "      </button>\n",
              "      \n",
              "  <style>\n",
              "    .colab-df-container {\n",
              "      display:flex;\n",
              "      flex-wrap:wrap;\n",
              "      gap: 12px;\n",
              "    }\n",
              "\n",
              "    .colab-df-convert {\n",
              "      background-color: #E8F0FE;\n",
              "      border: none;\n",
              "      border-radius: 50%;\n",
              "      cursor: pointer;\n",
              "      display: none;\n",
              "      fill: #1967D2;\n",
              "      height: 32px;\n",
              "      padding: 0 0 0 0;\n",
              "      width: 32px;\n",
              "    }\n",
              "\n",
              "    .colab-df-convert:hover {\n",
              "      background-color: #E2EBFA;\n",
              "      box-shadow: 0px 1px 2px rgba(60, 64, 67, 0.3), 0px 1px 3px 1px rgba(60, 64, 67, 0.15);\n",
              "      fill: #174EA6;\n",
              "    }\n",
              "\n",
              "    [theme=dark] .colab-df-convert {\n",
              "      background-color: #3B4455;\n",
              "      fill: #D2E3FC;\n",
              "    }\n",
              "\n",
              "    [theme=dark] .colab-df-convert:hover {\n",
              "      background-color: #434B5C;\n",
              "      box-shadow: 0px 1px 3px 1px rgba(0, 0, 0, 0.15);\n",
              "      filter: drop-shadow(0px 1px 2px rgba(0, 0, 0, 0.3));\n",
              "      fill: #FFFFFF;\n",
              "    }\n",
              "  </style>\n",
              "\n",
              "      <script>\n",
              "        const buttonEl =\n",
              "          document.querySelector('#df-cd37f3e0-ce8a-477b-81ca-e710ad80bc5f button.colab-df-convert');\n",
              "        buttonEl.style.display =\n",
              "          google.colab.kernel.accessAllowed ? 'block' : 'none';\n",
              "\n",
              "        async function convertToInteractive(key) {\n",
              "          const element = document.querySelector('#df-cd37f3e0-ce8a-477b-81ca-e710ad80bc5f');\n",
              "          const dataTable =\n",
              "            await google.colab.kernel.invokeFunction('convertToInteractive',\n",
              "                                                     [key], {});\n",
              "          if (!dataTable) return;\n",
              "\n",
              "          const docLinkHtml = 'Like what you see? Visit the ' +\n",
              "            '<a target=\"_blank\" href=https://colab.research.google.com/notebooks/data_table.ipynb>data table notebook</a>'\n",
              "            + ' to learn more about interactive tables.';\n",
              "          element.innerHTML = '';\n",
              "          dataTable['output_type'] = 'display_data';\n",
              "          await google.colab.output.renderOutput(dataTable, element);\n",
              "          const docLink = document.createElement('div');\n",
              "          docLink.innerHTML = docLinkHtml;\n",
              "          element.appendChild(docLink);\n",
              "        }\n",
              "      </script>\n",
              "    </div>\n",
              "  </div>\n",
              "  "
            ],
            "text/plain": [
              "     X1     X3   X5  X6   X7  X8     Y1     Y2\n",
              "0  0.98  294.0  7.0   2  0.0   0  15.55  21.33\n",
              "1  0.98  294.0  7.0   3  0.0   0  15.55  21.33\n",
              "2  0.98  294.0  7.0   4  0.0   0  15.55  21.33\n",
              "3  0.98  294.0  7.0   5  0.0   0  15.55  21.33\n",
              "4  0.90  318.5  7.0   2  0.0   0  20.84  28.28"
            ]
          },
          "execution_count": 23,
          "metadata": {},
          "output_type": "execute_result"
        }
      ],
      "source": [
        "df.head()"
      ]
    },
    {
      "cell_type": "code",
      "execution_count": null,
      "metadata": {
        "id": "bYgsc6IILXGy"
      },
      "outputs": [],
      "source": [
        "from sklearn.model_selection import train_test_split"
      ]
    },
    {
      "cell_type": "code",
      "execution_count": null,
      "metadata": {
        "colab": {
          "base_uri": "https://localhost:8080/",
          "height": 424
        },
        "id": "XB-v4pU4MaFY",
        "outputId": "cde06475-9e3c-453d-8cd7-6b2941d8c50c"
      },
      "outputs": [
        {
          "data": {
            "text/html": [
              "\n",
              "  <div id=\"df-fdd4c46a-503c-4bda-a175-4fc021168bc4\">\n",
              "    <div class=\"colab-df-container\">\n",
              "      <div>\n",
              "<style scoped>\n",
              "    .dataframe tbody tr th:only-of-type {\n",
              "        vertical-align: middle;\n",
              "    }\n",
              "\n",
              "    .dataframe tbody tr th {\n",
              "        vertical-align: top;\n",
              "    }\n",
              "\n",
              "    .dataframe thead th {\n",
              "        text-align: right;\n",
              "    }\n",
              "</style>\n",
              "<table border=\"1\" class=\"dataframe\">\n",
              "  <thead>\n",
              "    <tr style=\"text-align: right;\">\n",
              "      <th></th>\n",
              "      <th>X1</th>\n",
              "      <th>X3</th>\n",
              "      <th>X5</th>\n",
              "      <th>X6</th>\n",
              "      <th>X7</th>\n",
              "      <th>X8</th>\n",
              "    </tr>\n",
              "  </thead>\n",
              "  <tbody>\n",
              "    <tr>\n",
              "      <th>0</th>\n",
              "      <td>0.98</td>\n",
              "      <td>294.0</td>\n",
              "      <td>7.0</td>\n",
              "      <td>2</td>\n",
              "      <td>0.0</td>\n",
              "      <td>0</td>\n",
              "    </tr>\n",
              "    <tr>\n",
              "      <th>1</th>\n",
              "      <td>0.98</td>\n",
              "      <td>294.0</td>\n",
              "      <td>7.0</td>\n",
              "      <td>3</td>\n",
              "      <td>0.0</td>\n",
              "      <td>0</td>\n",
              "    </tr>\n",
              "    <tr>\n",
              "      <th>2</th>\n",
              "      <td>0.98</td>\n",
              "      <td>294.0</td>\n",
              "      <td>7.0</td>\n",
              "      <td>4</td>\n",
              "      <td>0.0</td>\n",
              "      <td>0</td>\n",
              "    </tr>\n",
              "    <tr>\n",
              "      <th>3</th>\n",
              "      <td>0.98</td>\n",
              "      <td>294.0</td>\n",
              "      <td>7.0</td>\n",
              "      <td>5</td>\n",
              "      <td>0.0</td>\n",
              "      <td>0</td>\n",
              "    </tr>\n",
              "    <tr>\n",
              "      <th>4</th>\n",
              "      <td>0.90</td>\n",
              "      <td>318.5</td>\n",
              "      <td>7.0</td>\n",
              "      <td>2</td>\n",
              "      <td>0.0</td>\n",
              "      <td>0</td>\n",
              "    </tr>\n",
              "    <tr>\n",
              "      <th>...</th>\n",
              "      <td>...</td>\n",
              "      <td>...</td>\n",
              "      <td>...</td>\n",
              "      <td>...</td>\n",
              "      <td>...</td>\n",
              "      <td>...</td>\n",
              "    </tr>\n",
              "    <tr>\n",
              "      <th>763</th>\n",
              "      <td>0.64</td>\n",
              "      <td>343.0</td>\n",
              "      <td>3.5</td>\n",
              "      <td>5</td>\n",
              "      <td>0.4</td>\n",
              "      <td>5</td>\n",
              "    </tr>\n",
              "    <tr>\n",
              "      <th>764</th>\n",
              "      <td>0.62</td>\n",
              "      <td>367.5</td>\n",
              "      <td>3.5</td>\n",
              "      <td>2</td>\n",
              "      <td>0.4</td>\n",
              "      <td>5</td>\n",
              "    </tr>\n",
              "    <tr>\n",
              "      <th>765</th>\n",
              "      <td>0.62</td>\n",
              "      <td>367.5</td>\n",
              "      <td>3.5</td>\n",
              "      <td>3</td>\n",
              "      <td>0.4</td>\n",
              "      <td>5</td>\n",
              "    </tr>\n",
              "    <tr>\n",
              "      <th>766</th>\n",
              "      <td>0.62</td>\n",
              "      <td>367.5</td>\n",
              "      <td>3.5</td>\n",
              "      <td>4</td>\n",
              "      <td>0.4</td>\n",
              "      <td>5</td>\n",
              "    </tr>\n",
              "    <tr>\n",
              "      <th>767</th>\n",
              "      <td>0.62</td>\n",
              "      <td>367.5</td>\n",
              "      <td>3.5</td>\n",
              "      <td>5</td>\n",
              "      <td>0.4</td>\n",
              "      <td>5</td>\n",
              "    </tr>\n",
              "  </tbody>\n",
              "</table>\n",
              "<p>768 rows × 6 columns</p>\n",
              "</div>\n",
              "      <button class=\"colab-df-convert\" onclick=\"convertToInteractive('df-fdd4c46a-503c-4bda-a175-4fc021168bc4')\"\n",
              "              title=\"Convert this dataframe to an interactive table.\"\n",
              "              style=\"display:none;\">\n",
              "        \n",
              "  <svg xmlns=\"http://www.w3.org/2000/svg\" height=\"24px\"viewBox=\"0 0 24 24\"\n",
              "       width=\"24px\">\n",
              "    <path d=\"M0 0h24v24H0V0z\" fill=\"none\"/>\n",
              "    <path d=\"M18.56 5.44l.94 2.06.94-2.06 2.06-.94-2.06-.94-.94-2.06-.94 2.06-2.06.94zm-11 1L8.5 8.5l.94-2.06 2.06-.94-2.06-.94L8.5 2.5l-.94 2.06-2.06.94zm10 10l.94 2.06.94-2.06 2.06-.94-2.06-.94-.94-2.06-.94 2.06-2.06.94z\"/><path d=\"M17.41 7.96l-1.37-1.37c-.4-.4-.92-.59-1.43-.59-.52 0-1.04.2-1.43.59L10.3 9.45l-7.72 7.72c-.78.78-.78 2.05 0 2.83L4 21.41c.39.39.9.59 1.41.59.51 0 1.02-.2 1.41-.59l7.78-7.78 2.81-2.81c.8-.78.8-2.07 0-2.86zM5.41 20L4 18.59l7.72-7.72 1.47 1.35L5.41 20z\"/>\n",
              "  </svg>\n",
              "      </button>\n",
              "      \n",
              "  <style>\n",
              "    .colab-df-container {\n",
              "      display:flex;\n",
              "      flex-wrap:wrap;\n",
              "      gap: 12px;\n",
              "    }\n",
              "\n",
              "    .colab-df-convert {\n",
              "      background-color: #E8F0FE;\n",
              "      border: none;\n",
              "      border-radius: 50%;\n",
              "      cursor: pointer;\n",
              "      display: none;\n",
              "      fill: #1967D2;\n",
              "      height: 32px;\n",
              "      padding: 0 0 0 0;\n",
              "      width: 32px;\n",
              "    }\n",
              "\n",
              "    .colab-df-convert:hover {\n",
              "      background-color: #E2EBFA;\n",
              "      box-shadow: 0px 1px 2px rgba(60, 64, 67, 0.3), 0px 1px 3px 1px rgba(60, 64, 67, 0.15);\n",
              "      fill: #174EA6;\n",
              "    }\n",
              "\n",
              "    [theme=dark] .colab-df-convert {\n",
              "      background-color: #3B4455;\n",
              "      fill: #D2E3FC;\n",
              "    }\n",
              "\n",
              "    [theme=dark] .colab-df-convert:hover {\n",
              "      background-color: #434B5C;\n",
              "      box-shadow: 0px 1px 3px 1px rgba(0, 0, 0, 0.15);\n",
              "      filter: drop-shadow(0px 1px 2px rgba(0, 0, 0, 0.3));\n",
              "      fill: #FFFFFF;\n",
              "    }\n",
              "  </style>\n",
              "\n",
              "      <script>\n",
              "        const buttonEl =\n",
              "          document.querySelector('#df-fdd4c46a-503c-4bda-a175-4fc021168bc4 button.colab-df-convert');\n",
              "        buttonEl.style.display =\n",
              "          google.colab.kernel.accessAllowed ? 'block' : 'none';\n",
              "\n",
              "        async function convertToInteractive(key) {\n",
              "          const element = document.querySelector('#df-fdd4c46a-503c-4bda-a175-4fc021168bc4');\n",
              "          const dataTable =\n",
              "            await google.colab.kernel.invokeFunction('convertToInteractive',\n",
              "                                                     [key], {});\n",
              "          if (!dataTable) return;\n",
              "\n",
              "          const docLinkHtml = 'Like what you see? Visit the ' +\n",
              "            '<a target=\"_blank\" href=https://colab.research.google.com/notebooks/data_table.ipynb>data table notebook</a>'\n",
              "            + ' to learn more about interactive tables.';\n",
              "          element.innerHTML = '';\n",
              "          dataTable['output_type'] = 'display_data';\n",
              "          await google.colab.output.renderOutput(dataTable, element);\n",
              "          const docLink = document.createElement('div');\n",
              "          docLink.innerHTML = docLinkHtml;\n",
              "          element.appendChild(docLink);\n",
              "        }\n",
              "      </script>\n",
              "    </div>\n",
              "  </div>\n",
              "  "
            ],
            "text/plain": [
              "       X1     X3   X5  X6   X7  X8\n",
              "0    0.98  294.0  7.0   2  0.0   0\n",
              "1    0.98  294.0  7.0   3  0.0   0\n",
              "2    0.98  294.0  7.0   4  0.0   0\n",
              "3    0.98  294.0  7.0   5  0.0   0\n",
              "4    0.90  318.5  7.0   2  0.0   0\n",
              "..    ...    ...  ...  ..  ...  ..\n",
              "763  0.64  343.0  3.5   5  0.4   5\n",
              "764  0.62  367.5  3.5   2  0.4   5\n",
              "765  0.62  367.5  3.5   3  0.4   5\n",
              "766  0.62  367.5  3.5   4  0.4   5\n",
              "767  0.62  367.5  3.5   5  0.4   5\n",
              "\n",
              "[768 rows x 6 columns]"
            ]
          },
          "execution_count": 25,
          "metadata": {},
          "output_type": "execute_result"
        }
      ],
      "source": [
        "X=df.iloc[:,0:6]\n",
        "y=df.iloc[:,6:]\n",
        "X"
      ]
    },
    {
      "cell_type": "code",
      "execution_count": null,
      "metadata": {
        "colab": {
          "base_uri": "https://localhost:8080/",
          "height": 424
        },
        "id": "cge1T7KfNW0L",
        "outputId": "c17faba4-df7e-4810-c760-0e49c0cd23e3"
      },
      "outputs": [
        {
          "data": {
            "text/html": [
              "\n",
              "  <div id=\"df-bea944b6-7e22-4626-ac85-f00cfaa20be0\">\n",
              "    <div class=\"colab-df-container\">\n",
              "      <div>\n",
              "<style scoped>\n",
              "    .dataframe tbody tr th:only-of-type {\n",
              "        vertical-align: middle;\n",
              "    }\n",
              "\n",
              "    .dataframe tbody tr th {\n",
              "        vertical-align: top;\n",
              "    }\n",
              "\n",
              "    .dataframe thead th {\n",
              "        text-align: right;\n",
              "    }\n",
              "</style>\n",
              "<table border=\"1\" class=\"dataframe\">\n",
              "  <thead>\n",
              "    <tr style=\"text-align: right;\">\n",
              "      <th></th>\n",
              "      <th>Y1</th>\n",
              "      <th>Y2</th>\n",
              "    </tr>\n",
              "  </thead>\n",
              "  <tbody>\n",
              "    <tr>\n",
              "      <th>0</th>\n",
              "      <td>15.55</td>\n",
              "      <td>21.33</td>\n",
              "    </tr>\n",
              "    <tr>\n",
              "      <th>1</th>\n",
              "      <td>15.55</td>\n",
              "      <td>21.33</td>\n",
              "    </tr>\n",
              "    <tr>\n",
              "      <th>2</th>\n",
              "      <td>15.55</td>\n",
              "      <td>21.33</td>\n",
              "    </tr>\n",
              "    <tr>\n",
              "      <th>3</th>\n",
              "      <td>15.55</td>\n",
              "      <td>21.33</td>\n",
              "    </tr>\n",
              "    <tr>\n",
              "      <th>4</th>\n",
              "      <td>20.84</td>\n",
              "      <td>28.28</td>\n",
              "    </tr>\n",
              "    <tr>\n",
              "      <th>...</th>\n",
              "      <td>...</td>\n",
              "      <td>...</td>\n",
              "    </tr>\n",
              "    <tr>\n",
              "      <th>763</th>\n",
              "      <td>17.88</td>\n",
              "      <td>21.40</td>\n",
              "    </tr>\n",
              "    <tr>\n",
              "      <th>764</th>\n",
              "      <td>16.54</td>\n",
              "      <td>16.88</td>\n",
              "    </tr>\n",
              "    <tr>\n",
              "      <th>765</th>\n",
              "      <td>16.44</td>\n",
              "      <td>17.11</td>\n",
              "    </tr>\n",
              "    <tr>\n",
              "      <th>766</th>\n",
              "      <td>16.48</td>\n",
              "      <td>16.61</td>\n",
              "    </tr>\n",
              "    <tr>\n",
              "      <th>767</th>\n",
              "      <td>16.64</td>\n",
              "      <td>16.03</td>\n",
              "    </tr>\n",
              "  </tbody>\n",
              "</table>\n",
              "<p>768 rows × 2 columns</p>\n",
              "</div>\n",
              "      <button class=\"colab-df-convert\" onclick=\"convertToInteractive('df-bea944b6-7e22-4626-ac85-f00cfaa20be0')\"\n",
              "              title=\"Convert this dataframe to an interactive table.\"\n",
              "              style=\"display:none;\">\n",
              "        \n",
              "  <svg xmlns=\"http://www.w3.org/2000/svg\" height=\"24px\"viewBox=\"0 0 24 24\"\n",
              "       width=\"24px\">\n",
              "    <path d=\"M0 0h24v24H0V0z\" fill=\"none\"/>\n",
              "    <path d=\"M18.56 5.44l.94 2.06.94-2.06 2.06-.94-2.06-.94-.94-2.06-.94 2.06-2.06.94zm-11 1L8.5 8.5l.94-2.06 2.06-.94-2.06-.94L8.5 2.5l-.94 2.06-2.06.94zm10 10l.94 2.06.94-2.06 2.06-.94-2.06-.94-.94-2.06-.94 2.06-2.06.94z\"/><path d=\"M17.41 7.96l-1.37-1.37c-.4-.4-.92-.59-1.43-.59-.52 0-1.04.2-1.43.59L10.3 9.45l-7.72 7.72c-.78.78-.78 2.05 0 2.83L4 21.41c.39.39.9.59 1.41.59.51 0 1.02-.2 1.41-.59l7.78-7.78 2.81-2.81c.8-.78.8-2.07 0-2.86zM5.41 20L4 18.59l7.72-7.72 1.47 1.35L5.41 20z\"/>\n",
              "  </svg>\n",
              "      </button>\n",
              "      \n",
              "  <style>\n",
              "    .colab-df-container {\n",
              "      display:flex;\n",
              "      flex-wrap:wrap;\n",
              "      gap: 12px;\n",
              "    }\n",
              "\n",
              "    .colab-df-convert {\n",
              "      background-color: #E8F0FE;\n",
              "      border: none;\n",
              "      border-radius: 50%;\n",
              "      cursor: pointer;\n",
              "      display: none;\n",
              "      fill: #1967D2;\n",
              "      height: 32px;\n",
              "      padding: 0 0 0 0;\n",
              "      width: 32px;\n",
              "    }\n",
              "\n",
              "    .colab-df-convert:hover {\n",
              "      background-color: #E2EBFA;\n",
              "      box-shadow: 0px 1px 2px rgba(60, 64, 67, 0.3), 0px 1px 3px 1px rgba(60, 64, 67, 0.15);\n",
              "      fill: #174EA6;\n",
              "    }\n",
              "\n",
              "    [theme=dark] .colab-df-convert {\n",
              "      background-color: #3B4455;\n",
              "      fill: #D2E3FC;\n",
              "    }\n",
              "\n",
              "    [theme=dark] .colab-df-convert:hover {\n",
              "      background-color: #434B5C;\n",
              "      box-shadow: 0px 1px 3px 1px rgba(0, 0, 0, 0.15);\n",
              "      filter: drop-shadow(0px 1px 2px rgba(0, 0, 0, 0.3));\n",
              "      fill: #FFFFFF;\n",
              "    }\n",
              "  </style>\n",
              "\n",
              "      <script>\n",
              "        const buttonEl =\n",
              "          document.querySelector('#df-bea944b6-7e22-4626-ac85-f00cfaa20be0 button.colab-df-convert');\n",
              "        buttonEl.style.display =\n",
              "          google.colab.kernel.accessAllowed ? 'block' : 'none';\n",
              "\n",
              "        async function convertToInteractive(key) {\n",
              "          const element = document.querySelector('#df-bea944b6-7e22-4626-ac85-f00cfaa20be0');\n",
              "          const dataTable =\n",
              "            await google.colab.kernel.invokeFunction('convertToInteractive',\n",
              "                                                     [key], {});\n",
              "          if (!dataTable) return;\n",
              "\n",
              "          const docLinkHtml = 'Like what you see? Visit the ' +\n",
              "            '<a target=\"_blank\" href=https://colab.research.google.com/notebooks/data_table.ipynb>data table notebook</a>'\n",
              "            + ' to learn more about interactive tables.';\n",
              "          element.innerHTML = '';\n",
              "          dataTable['output_type'] = 'display_data';\n",
              "          await google.colab.output.renderOutput(dataTable, element);\n",
              "          const docLink = document.createElement('div');\n",
              "          docLink.innerHTML = docLinkHtml;\n",
              "          element.appendChild(docLink);\n",
              "        }\n",
              "      </script>\n",
              "    </div>\n",
              "  </div>\n",
              "  "
            ],
            "text/plain": [
              "        Y1     Y2\n",
              "0    15.55  21.33\n",
              "1    15.55  21.33\n",
              "2    15.55  21.33\n",
              "3    15.55  21.33\n",
              "4    20.84  28.28\n",
              "..     ...    ...\n",
              "763  17.88  21.40\n",
              "764  16.54  16.88\n",
              "765  16.44  17.11\n",
              "766  16.48  16.61\n",
              "767  16.64  16.03\n",
              "\n",
              "[768 rows x 2 columns]"
            ]
          },
          "execution_count": 26,
          "metadata": {},
          "output_type": "execute_result"
        }
      ],
      "source": [
        "y"
      ]
    },
    {
      "cell_type": "code",
      "execution_count": null,
      "metadata": {
        "id": "vzCpfQCMR0wc"
      },
      "outputs": [],
      "source": [
        "from sklearn.linear_model import Ridge"
      ]
    },
    {
      "cell_type": "code",
      "execution_count": null,
      "metadata": {
        "id": "eEYxQX8gMI6R"
      },
      "outputs": [],
      "source": [
        "X_train, X_test, y_train, y_test = train_test_split(X, y, test_size=0.2,\n",
        "                                                    random_state=50)"
      ]
    },
    {
      "cell_type": "code",
      "execution_count": null,
      "metadata": {
        "id": "0NJznXkXNY9Q"
      },
      "outputs": [],
      "source": [
        "from sklearn import linear_model, metrics\n",
        "reg = linear_model.LinearRegression()"
      ]
    },
    {
      "cell_type": "code",
      "execution_count": null,
      "metadata": {
        "colab": {
          "base_uri": "https://localhost:8080/"
        },
        "id": "MWZ8cJDYPPcH",
        "outputId": "137e609c-5f7e-47d0-9605-a165f7899d07"
      },
      "outputs": [
        {
          "data": {
            "text/plain": [
              "LinearRegression()"
            ]
          },
          "execution_count": 30,
          "metadata": {},
          "output_type": "execute_result"
        }
      ],
      "source": [
        "reg.fit(X_train, y_train)"
      ]
    },
    {
      "cell_type": "code",
      "execution_count": null,
      "metadata": {
        "id": "5_-cEFLYTc0q"
      },
      "outputs": [],
      "source": [
        "ridge = Ridge(alpha=.05)"
      ]
    },
    {
      "cell_type": "code",
      "execution_count": null,
      "metadata": {
        "colab": {
          "base_uri": "https://localhost:8080/"
        },
        "id": "J5llxj03TpMC",
        "outputId": "f957f473-328e-4e9e-d5f0-6339eb70bf56"
      },
      "outputs": [
        {
          "name": "stdout",
          "output_type": "stream",
          "text": [
            "Ridge model: [[-1.45744900e+01  3.30974930e-02  5.61724287e+00  3.95280743e-02\n",
            "   1.94251068e+01  2.34491977e-01]\n",
            " [-2.09105545e+01  1.64021616e-02  5.79298504e+00  1.84396295e-01\n",
            "   1.50581099e+01  6.98169059e-02]]\n"
          ]
        }
      ],
      "source": [
        "ridge.fit(X_train,y_train)\n",
        "\n",
        "print (\"Ridge model:\", (ridge.coef_))\n",
        "\n"
      ]
    },
    {
      "cell_type": "code",
      "execution_count": null,
      "metadata": {
        "colab": {
          "base_uri": "https://localhost:8080/"
        },
        "id": "THY3GhiWPqp_",
        "outputId": "0a05a39e-8dd6-421c-e6ab-24d6ee9556b5"
      },
      "outputs": [
        {
          "name": "stdout",
          "output_type": "stream",
          "text": [
            "Coefficients:  [[-1.56124601e+01  3.18946677e-02  5.67806771e+00  3.88648276e-02\n",
            "   1.95137284e+01  2.33061329e-01]\n",
            " [-2.23959669e+01  1.46876698e-02  5.87992765e+00  1.83385286e-01\n",
            "   1.51226612e+01  6.89382625e-02]]\n"
          ]
        }
      ],
      "source": [
        "print('Coefficients: ', reg.coef_)"
      ]
    },
    {
      "cell_type": "code",
      "execution_count": null,
      "metadata": {
        "id": "nanXHbadQrVZ"
      },
      "outputs": [],
      "source": [
        "predictions=reg.predict(X_test)"
      ]
    },
    {
      "cell_type": "code",
      "execution_count": null,
      "metadata": {
        "colab": {
          "base_uri": "https://localhost:8080/"
        },
        "id": "6phpi9SQQzjF",
        "outputId": "b9479036-3fff-42b3-bcab-74672e3cb65f"
      },
      "outputs": [
        {
          "data": {
            "text/plain": [
              "array([[19.09060712, 20.96389833],\n",
              "       [29.084714  , 31.83138706],\n",
              "       [ 8.93875108, 13.04100958],\n",
              "       [38.30207358, 38.94452028],\n",
              "       [32.68101638, 34.47666019],\n",
              "       [24.79517808, 28.7876813 ],\n",
              "       [27.71766107, 30.75908576],\n",
              "       [11.82694552, 15.12602347],\n",
              "       [11.01318959, 14.66251031],\n",
              "       [30.02371618, 32.42740514],\n",
              "       [11.51527413, 14.949442  ],\n",
              "       [12.72540954, 15.27599165],\n",
              "       [35.8800018 , 36.99738291],\n",
              "       [36.38282219, 37.2854653 ],\n",
              "       [32.79544377, 34.99363663],\n",
              "       [35.6836382 , 37.07865052],\n",
              "       [38.80706107, 39.26578209],\n",
              "       [27.63993141, 30.39231519],\n",
              "       [35.91669953, 37.14758878],\n",
              "       [29.63532317, 32.65629919],\n",
              "       [31.03470262, 32.56043243],\n",
              "       [33.02792728, 34.79123701],\n",
              "       [25.02838739, 27.31459909],\n",
              "       [11.23747152, 14.11772605],\n",
              "       [38.34093841, 39.12790556],\n",
              "       [30.10144583, 32.79417571],\n",
              "       [11.98227719, 14.82819116],\n",
              "       [29.35664016, 32.08371061],\n",
              "       [24.99096386, 28.43507583],\n",
              "       [10.73248403, 13.79646424],\n",
              "       [14.05213943, 16.15269716],\n",
              "       [16.35774436, 18.58105213],\n",
              "       [30.76277646, 32.30810888],\n",
              "       [18.22999989, 20.22506934],\n",
              "       [12.21533852, 14.89712942],\n",
              "       [14.98706611, 17.46336091],\n",
              "       [31.42635823, 32.35604454],\n",
              "       [31.54565061, 33.96190971],\n",
              "       [ 9.59907024, 13.06443908],\n",
              "       [16.46912767, 18.04223411],\n",
              "       [27.37315935, 30.70832423],\n",
              "       [30.411659  , 32.95854667],\n",
              "       [30.87778166, 33.0964232 ],\n",
              "       [16.313796  , 18.34006642],\n",
              "       [36.22952998, 36.58510358],\n",
              "       [29.2789105 , 31.71694003],\n",
              "       [16.5079925 , 18.22561939],\n",
              "       [35.8778347 , 36.96420349],\n",
              "       [28.06877853, 30.10864797],\n",
              "       [ 9.76049348, 13.59645327],\n",
              "       [15.76906328, 18.09454669],\n",
              "       [33.4168981 , 34.83368084],\n",
              "       [14.90933645, 17.09659033],\n",
              "       [11.01028664, 14.62818019],\n",
              "       [33.18383677, 34.76474258],\n",
              "       [39.0401224 , 39.33472035],\n",
              "       [13.58601677, 16.01482064],\n",
              "       [14.63652989, 17.10339416],\n",
              "       [12.44839985, 14.96606768],\n",
              "       [28.65463064, 29.78981305],\n",
              "       [14.16873391, 16.70285302],\n",
              "       [13.69840812, 16.2482487 ],\n",
              "       [15.6524688 , 17.54439083],\n",
              "       [33.68824644, 34.81466652],\n",
              "       [30.06359247, 32.1012941 ],\n",
              "       [16.00212461, 18.16348495],\n",
              "       [32.52351761, 34.74131308],\n",
              "       [25.49451005, 27.45247561],\n",
              "       [33.06679211, 34.9746223 ],\n",
              "       [13.77613778, 16.61501927],\n",
              "       [30.33450716, 32.86311397],\n",
              "       [32.98906245, 34.60785173],\n",
              "       [29.90724933, 32.90862274],\n",
              "       [12.1039552 , 15.43594744],\n",
              "       [28.18850798, 29.65193652],\n",
              "       [22.92168287, 26.10016528],\n",
              "       [10.42081264, 13.61988278],\n",
              "       [33.72870055, 34.75989335],\n",
              "       [ 8.62796009, 12.60530074],\n",
              "       [34.7057712 , 36.29924715],\n",
              "       [12.02114202, 15.01157644],\n",
              "       [27.450889  , 31.07509481],\n",
              "       [16.74613736, 18.35215808],\n",
              "       [10.4985423 , 13.98665335],\n",
              "       [15.22012744, 17.53229917],\n",
              "       [12.64868792, 15.68146716],\n",
              "       [33.22371307, 34.43863154],\n",
              "       [32.60328673, 34.10988961],\n",
              "       [30.56699068, 32.66071436],\n",
              "       [30.02472764, 31.91790881],\n",
              "       [34.43384504, 36.0469236 ],\n",
              "       [32.83373078, 34.90568404],\n",
              "       [12.72641757, 16.04823774],\n",
              "       [ 8.38814191, 12.21609745],\n",
              "       [31.93404361, 33.73301566],\n",
              "       [33.4190652 , 34.86686026],\n",
              "       [24.83404291, 28.97106659],\n",
              "       [30.6058555 , 32.84409965],\n",
              "       [33.61210607, 34.20973749],\n",
              "       [19.51786495, 20.91838957],\n",
              "       [13.93734591, 16.89657937],\n",
              "       [14.52094345, 17.32548438],\n",
              "       [15.18634614, 17.40651431],\n",
              "       [13.19342063, 15.92698689],\n",
              "       [27.83412791, 30.27786816],\n",
              "       [35.13302903, 36.25373839],\n",
              "       [12.92061408, 15.93379071],\n",
              "       [34.93883253, 36.36818541],\n",
              "       [20.02285244, 21.23965138],\n",
              "       [10.65387397, 13.68882104],\n",
              "       [16.00300501, 17.90435758],\n",
              "       [33.22212378, 34.67678999],\n",
              "       [12.68755275, 15.86485245],\n",
              "       [34.20078371, 35.97798534],\n",
              "       [11.51615453, 14.69031463],\n",
              "       [ 8.78698764, 12.86359052],\n",
              "       [33.30247071, 34.3167044 ],\n",
              "       [30.92137075, 32.03478273],\n",
              "       [31.81757676, 34.21423326],\n",
              "       [28.49929897, 30.08764536],\n",
              "       [15.65347684, 18.31663691],\n",
              "       [15.49205359, 17.78462272],\n",
              "       [33.6509709 , 34.39312277],\n",
              "       [30.1024573 , 32.28467938],\n",
              "       [ 6.44352592, 11.02409636],\n",
              "       [31.77871194, 34.03084797],\n",
              "       [ 9.95838586, 14.03812834],\n",
              "       [11.74921586, 14.75925289],\n",
              "       [31.15443207, 32.10372099],\n",
              "       [24.71744842, 28.42091073],\n",
              "       [33.10827421, 34.43115142],\n",
              "       [15.14239778, 17.16552859],\n",
              "       [28.65745617, 31.87689582],\n",
              "       [14.0091991 , 16.68395754],\n",
              "       [29.79065485, 32.35846688],\n",
              "       [32.99065174, 34.36969327],\n",
              "       [31.65941956, 32.4249828 ],\n",
              "       [31.70098228, 33.6640774 ],\n",
              "       [16.1195995 , 18.45451344],\n",
              "       [18.85145422, 20.06511356],\n",
              "       [30.4908503 , 32.05578533],\n",
              "       [28.54086169, 31.32673996],\n",
              "       [19.78979111, 21.17071311],\n",
              "       [31.23216173, 32.47049156],\n",
              "       [16.82386702, 18.71892865],\n",
              "       [25.5722397 , 27.81924618],\n",
              "       [14.12986908, 16.51946774],\n",
              "       [25.84416586, 28.07156973],\n",
              "       [28.61859134, 31.69351053],\n",
              "       [11.39867965, 14.39928614],\n",
              "       [12.88174925, 15.75040543],\n",
              "       [27.13494393, 30.07105337],\n",
              "       [31.1932969 , 32.28710627],\n",
              "       [33.33871827, 35.22694585]])"
            ]
          },
          "execution_count": 35,
          "metadata": {},
          "output_type": "execute_result"
        }
      ],
      "source": [
        "predictions"
      ]
    },
    {
      "cell_type": "code",
      "execution_count": null,
      "metadata": {
        "colab": {
          "base_uri": "https://localhost:8080/"
        },
        "id": "HXl8KA2lT1Mg",
        "outputId": "b61433a6-7638-49db-80b5-844798b2e657"
      },
      "outputs": [
        {
          "data": {
            "text/plain": [
              "array([[19.08922002, 20.97404333],\n",
              "       [29.04931072, 31.7712956 ],\n",
              "       [ 8.94092153, 13.03706552],\n",
              "       [38.29139056, 38.94132297],\n",
              "       [32.69835048, 34.49370689],\n",
              "       [24.77496395, 28.74794184],\n",
              "       [27.69497062, 30.71741676],\n",
              "       [11.81515948, 15.11138571],\n",
              "       [11.04515723, 14.69658615],\n",
              "       [29.98388588, 32.3618557 ],\n",
              "       [11.52591516, 14.95611606],\n",
              "       [12.7442013 , 15.29280813],\n",
              "       [35.88613656, 37.00663658],\n",
              "       [36.31992995, 37.20331879],\n",
              "       [32.74221607, 34.91954787],\n",
              "       [35.61645402, 36.99386807],\n",
              "       [38.79990259, 39.26535307],\n",
              "       [27.61591447, 30.34862417],\n",
              "       [35.850946  , 37.06368497],\n",
              "       [29.59395807, 32.59101447],\n",
              "       [31.0711376 , 32.61138093],\n",
              "       [32.97446257, 34.72642334],\n",
              "       [25.12397166, 27.44551061],\n",
              "       [11.23098406, 14.10727054],\n",
              "       [38.33091863, 39.12571926],\n",
              "       [30.06294202, 32.73064829],\n",
              "       [11.97059531, 14.81241003],\n",
              "       [29.32333077, 32.0255088 ],\n",
              "       [25.042401  , 28.49776892],\n",
              "       [10.72247203, 13.78324044],\n",
              "       [14.08107165, 16.18268909],\n",
              "       [16.3704179 , 18.60074745],\n",
              "       [30.79711755, 32.35716773],\n",
              "       [18.22133362, 20.22379619],\n",
              "       [12.20508729, 14.88222693],\n",
              "       [14.96341748, 17.43991911],\n",
              "       [31.49954381, 32.47137   ],\n",
              "       [31.49409279, 33.89037828],\n",
              "       [ 9.60486939, 13.06211994],\n",
              "       [16.45572367, 18.03082438],\n",
              "       [27.33789926, 30.64659399],\n",
              "       [30.37424467, 32.90631634],\n",
              "       [30.84322862, 33.04595015],\n",
              "       [16.30028784, 18.32980006],\n",
              "       [36.23653629, 36.59308151],\n",
              "       [29.24427462, 31.65671621],\n",
              "       [16.49525174, 18.21522067],\n",
              "       [35.81141793, 36.87928868],\n",
              "       [28.1178435 , 30.16826815],\n",
              "       [ 9.76927986, 13.60291636],\n",
              "       [15.77655155, 18.10471351],\n",
              "       [33.36663586, 34.760206  ],\n",
              "       [14.88436134, 17.07112652],\n",
              "       [11.01740314, 14.63208596],\n",
              "       [33.13214388, 34.69038909],\n",
              "       [39.03439456, 39.33516998],\n",
              "       [13.6120877 , 16.04305527],\n",
              "       [14.63464509, 17.10025316],\n",
              "       [12.43957926, 14.95204384],\n",
              "       [28.74121362, 29.91367782],\n",
              "       [14.19965588, 16.73587797],\n",
              "       [13.67576613, 16.22635322],\n",
              "       [15.65796732, 17.55152462],\n",
              "       [33.63841042, 34.75147776],\n",
              "       [30.09364161, 32.14771701],\n",
              "       [16.01104352, 18.17453041],\n",
              "       [32.46819602, 34.66533467],\n",
              "       [25.59295561, 27.58514443],\n",
              "       [33.01399064, 34.91081963],\n",
              "       [13.75482228, 16.59514581],\n",
              "       [30.297434  , 32.80046519],\n",
              "       [32.93493449, 34.54202704],\n",
              "       [29.86797812, 32.84522768],\n",
              "       [12.11978152, 15.45215   ],\n",
              "       [28.27222966, 29.77404401],\n",
              "       [23.02602515, 26.2386753 ],\n",
              "       [10.43322771, 13.62797079],\n",
              "       [33.75041165, 34.80028052],\n",
              "       [ 8.6273734 , 12.59845602],\n",
              "       [34.6423508 , 36.21891168],\n",
              "       [12.01012338, 14.99680632],\n",
              "       [27.41695541, 31.01538657],\n",
              "       [16.7603457 , 18.37158867],\n",
              "       [10.51228386, 13.99676338],\n",
              "       [15.19790946, 17.50973601],\n",
              "       [12.64351781, 15.67723656],\n",
              "       [33.24189962, 34.47625041],\n",
              "       [32.61929433, 34.1249143 ],\n",
              "       [30.52968049, 32.60734066],\n",
              "       [30.05411354, 31.96332072],\n",
              "       [34.36833075, 35.96469847],\n",
              "       [32.77949866, 34.84100273],\n",
              "       [12.72257396, 16.04602915],\n",
              "       [ 8.39627418, 12.21734664],\n",
              "       [31.8840206 , 33.6612195 ],\n",
              "       [33.44135449, 34.8875539 ],\n",
              "       [24.81449203, 28.93233814],\n",
              "       [30.56920857, 32.79173695],\n",
              "       [33.63182742, 34.24709163],\n",
              "       [19.5186759 , 20.92928085],\n",
              "       [13.93116916, 16.89080245],\n",
              "       [14.49443353, 17.3002853 ],\n",
              "       [15.18898337, 17.41189081],\n",
              "       [13.1672541 , 15.90232311],\n",
              "       [27.81087837, 30.23404478],\n",
              "       [35.07180668, 36.17414919],\n",
              "       [12.91753786, 15.93144976],\n",
              "       [34.87684277, 36.28872858],\n",
              "       [20.02718793, 21.25331095],\n",
              "       [10.66771969, 13.69778769],\n",
              "       [15.98673971, 17.89119057],\n",
              "       [33.16942647, 34.61184395],\n",
              "       [12.68304588, 15.86163285],\n",
              "       [34.13383877, 35.89488157],\n",
              "       [11.50161136, 14.67277622],\n",
              "       [ 8.8008724 , 12.87206176],\n",
              "       [33.32277027, 34.33436502],\n",
              "       [30.99103179, 32.14733989],\n",
              "       [31.76811285, 34.14459148],\n",
              "       [28.58577779, 30.21265351],\n",
              "       [15.63633998, 18.30474564],\n",
              "       [15.47192951, 17.76394922],\n",
              "       [33.6713555 , 34.43148793],\n",
              "       [30.13316969, 32.33211331],\n",
              "       [ 6.45037074, 11.02282812],\n",
              "       [31.72858477, 33.96019518],\n",
              "       [ 9.98230693, 14.0609184 ],\n",
              "       [11.73610333, 14.74259312],\n",
              "       [31.22552376, 32.2171568 ],\n",
              "       [24.6959078 , 28.37914925],\n",
              "       [33.12780636, 34.44894441],\n",
              "       [15.11885331, 17.14094343],\n",
              "       [28.61985484, 31.81605808],\n",
              "       [13.98931426, 16.66496272],\n",
              "       [29.7493939 , 32.29203879],\n",
              "       [33.00740764, 34.4064335 ],\n",
              "       [31.73403579, 32.5411869 ],\n",
              "       [31.64952862, 33.5914026 ],\n",
              "       [16.10532394, 18.44437945],\n",
              "       [18.8457534 , 20.06445432],\n",
              "       [30.52309749, 32.10295453],\n",
              "       [28.50127062, 31.2628692 ],\n",
              "       [19.79269595, 21.18349405],\n",
              "       [31.30457991, 32.58594939],\n",
              "       [16.83940185, 18.74038126],\n",
              "       [25.67201176, 27.95393702],\n",
              "       [14.1601278 , 16.55148168],\n",
              "       [25.94603181, 28.20815022],\n",
              "       [28.58032677, 31.63166179],\n",
              "       [11.40733094, 14.40292718],\n",
              "       [12.87800979, 15.74705347],\n",
              "       [27.10740244, 30.02459406],\n",
              "       [31.26505184, 32.40155309],\n",
              "       [33.28801069, 35.16503283]])"
            ]
          },
          "execution_count": 36,
          "metadata": {},
          "output_type": "execute_result"
        }
      ],
      "source": [
        "ridge.predict(X_test)"
      ]
    },
    {
      "cell_type": "code",
      "execution_count": null,
      "metadata": {
        "colab": {
          "base_uri": "https://localhost:8080/"
        },
        "id": "6o2_krAAQ1rl",
        "outputId": "eee3246c-9d1c-4edf-b4e6-52f2ed215296"
      },
      "outputs": [
        {
          "name": "stdout",
          "output_type": "stream",
          "text": [
            "Variance score: 0.8826556905671322\n"
          ]
        }
      ],
      "source": [
        "print('Variance score: {}'.format(reg.score(X_test, y_test)))"
      ]
    },
    {
      "cell_type": "code",
      "execution_count": null,
      "metadata": {
        "colab": {
          "base_uri": "https://localhost:8080/"
        },
        "id": "f-2XzKzUUL8V",
        "outputId": "35d1f5ba-c3ab-4210-9b3b-66b1dc8a8358"
      },
      "outputs": [
        {
          "name": "stdout",
          "output_type": "stream",
          "text": [
            "Variance score: 0.8829378910037108\n"
          ]
        }
      ],
      "source": [
        "print('Variance score: {}'.format(ridge.score(X_test, y_test)))"
      ]
    },
    {
      "cell_type": "code",
      "execution_count": null,
      "metadata": {
        "id": "ZAsLxYrDRBnG"
      },
      "outputs": [],
      "source": [
        "df.to_csv(\"efficiency2.csv\")"
      ]
    },
    {
      "cell_type": "code",
      "execution_count": null,
      "metadata": {
        "id": "STWkHIloRKFw"
      },
      "outputs": [],
      "source": [
        "from sklearn.ensemble import RandomForestRegressor"
      ]
    },
    {
      "cell_type": "code",
      "execution_count": null,
      "metadata": {
        "id": "GwDqQNliEAud"
      },
      "outputs": [],
      "source": [
        "rf = RandomForestRegressor(random_state = 42)"
      ]
    },
    {
      "cell_type": "code",
      "execution_count": null,
      "metadata": {
        "colab": {
          "base_uri": "https://localhost:8080/"
        },
        "id": "EYE2vLA5EDlh",
        "outputId": "cbd68dd0-9837-4cbd-a68e-024bc3a4bbef"
      },
      "outputs": [
        {
          "name": "stdout",
          "output_type": "stream",
          "text": [
            "Parameters currently in use:\n",
            "\n",
            "{'bootstrap': True,\n",
            " 'ccp_alpha': 0.0,\n",
            " 'criterion': 'squared_error',\n",
            " 'max_depth': None,\n",
            " 'max_features': 'auto',\n",
            " 'max_leaf_nodes': None,\n",
            " 'max_samples': None,\n",
            " 'min_impurity_decrease': 0.0,\n",
            " 'min_samples_leaf': 1,\n",
            " 'min_samples_split': 2,\n",
            " 'min_weight_fraction_leaf': 0.0,\n",
            " 'n_estimators': 100,\n",
            " 'n_jobs': None,\n",
            " 'oob_score': False,\n",
            " 'random_state': 42,\n",
            " 'verbose': 0,\n",
            " 'warm_start': False}\n"
          ]
        }
      ],
      "source": [
        "from pprint import pprint\n",
        "# Look at parameters used by our current forest\n",
        "print('Parameters currently in use:\\n')\n",
        "pprint(rf.get_params())\n"
      ]
    },
    {
      "cell_type": "code",
      "execution_count": null,
      "metadata": {
        "colab": {
          "base_uri": "https://localhost:8080/"
        },
        "id": "ssxVoLndEIKA",
        "outputId": "e25b84c3-2d87-4244-f086-c8f14efef2b0"
      },
      "outputs": [
        {
          "name": "stdout",
          "output_type": "stream",
          "text": [
            "{'bootstrap': [True, False],\n",
            " 'max_depth': [10, 20, 30, 40, 50, 60, 70, 80, 90, 100, 110, None],\n",
            " 'max_features': ['auto', 'sqrt'],\n",
            " 'min_samples_leaf': [1, 2, 4],\n",
            " 'min_samples_split': [2, 5, 10],\n",
            " 'n_estimators': [200, 400, 600, 800, 1000, 1200, 1400, 1600, 1800, 2000]}\n"
          ]
        }
      ],
      "source": [
        "from sklearn.model_selection import RandomizedSearchCV\n",
        "# Number of trees in random forest\n",
        "n_estimators = [int(x) for x in np.linspace(start = 200, stop = 2000, num = 10)]\n",
        "# Number of features to consider at every split\n",
        "max_features = ['auto', 'sqrt']\n",
        "# Maximum number of levels in tree\n",
        "max_depth = [int(x) for x in np.linspace(10, 110, num = 11)]\n",
        "max_depth.append(None)\n",
        "# Minimum number of samples required to split a node\n",
        "min_samples_split = [2, 5, 10]\n",
        "# Minimum number of samples required at each leaf node\n",
        "min_samples_leaf = [1, 2, 4]\n",
        "# Method of selecting samples for training each tree\n",
        "bootstrap = [True, False]\n",
        "# Create the random grid\n",
        "random_grid = {'n_estimators': n_estimators,\n",
        "               'max_features': max_features,\n",
        "               'max_depth': max_depth,\n",
        "               'min_samples_split': min_samples_split,\n",
        "               'min_samples_leaf': min_samples_leaf,\n",
        "               'bootstrap': bootstrap}\n",
        "pprint(random_grid)"
      ]
    },
    {
      "cell_type": "code",
      "execution_count": null,
      "metadata": {
        "colab": {
          "background_save": true,
          "base_uri": "https://localhost:8080/"
        },
        "id": "u2EsOtzVET8V",
        "outputId": "fe5a26c5-4e06-4d5a-fe6c-b610c7e3c59b"
      },
      "outputs": [
        {
          "name": "stdout",
          "output_type": "stream",
          "text": [
            "Fitting 3 folds for each of 100 candidates, totalling 300 fits\n"
          ]
        },
        {
          "data": {
            "text/plain": [
              "RandomizedSearchCV(cv=3, estimator=RandomForestRegressor(), n_iter=100,\n",
              "                   n_jobs=-1,\n",
              "                   param_distributions={'bootstrap': [True, False],\n",
              "                                        'max_depth': [10, 20, 30, 40, 50, 60,\n",
              "                                                      70, 80, 90, 100, 110,\n",
              "                                                      None],\n",
              "                                        'max_features': ['auto', 'sqrt'],\n",
              "                                        'min_samples_leaf': [1, 2, 4],\n",
              "                                        'min_samples_split': [2, 5, 10],\n",
              "                                        'n_estimators': [200, 400, 600, 800,\n",
              "                                                         1000, 1200, 1400, 1600,\n",
              "                                                         1800, 2000]},\n",
              "                   random_state=42, verbose=2)"
            ]
          },
          "execution_count": null,
          "metadata": {},
          "output_type": "execute_result"
        }
      ],
      "source": [
        "# Use the random grid to search for best hyperparameters\n",
        "# First create the base model to tune\n",
        "rf = RandomForestRegressor()\n",
        "# Random search of parameters, using 3 fold cross validation, \n",
        "# search across 100 different combinations, and use all available cores\n",
        "rf_random = RandomizedSearchCV(estimator = rf, param_distributions = random_grid, n_iter = 100, cv = 3, verbose=2, random_state=42, n_jobs = -1)\n",
        "# Fit the random search model\n",
        "rf_random.fit(X_train, y_train)"
      ]
    },
    {
      "cell_type": "code",
      "execution_count": null,
      "metadata": {
        "id": "QCzJW90OEZyy"
      },
      "outputs": [],
      "source": [
        ""
      ]
    }
  ],
  "metadata": {
    "accelerator": "GPU",
    "colab": {
      "name": "HEATING AND COOLING LOAD",
      "provenance": []
    },
    "gpuClass": "standard",
    "kernelspec": {
      "display_name": "Python 3",
      "name": "python3"
    },
    "language_info": {
      "name": "python"
    }
  },
  "nbformat": 4,
  "nbformat_minor": 0
}